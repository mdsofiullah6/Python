{
 "cells": [
  {
   "cell_type": "code",
   "execution_count": 3,
   "id": "0e7da78f-e513-40ed-8be9-812723eb590e",
   "metadata": {},
   "outputs": [],
   "source": [
    "import pandas as pd\n",
    "import numpy as np"
   ]
  },
  {
   "cell_type": "code",
   "execution_count": 4,
   "id": "98e35dc4-c205-42d4-b7c1-cb5a3222bcee",
   "metadata": {},
   "outputs": [],
   "source": [
    "people = {\n",
    "    'name' : ['richard', 'dahyun' , 'nayeon' , 'sana',''],\n",
    "    'title' : ['singularity','kim', '' , 'minatozaki',''],\n",
    "    'country' : ['united state' , 'south korea' , 'south korea', 'japan' ,''],\n",
    "    'food' : ['meat' , 'milk,chocklet milk' , 'salmon sushi','spicy food',''],\n",
    "    'email' : ['richard@email.com' , 'dahyun@email.com' , 'nayeon@email.com', 'sana@email.com',''] ,\n",
    "    'height_in_feet' : ['5.7' , '5.3' , '5.4', '5.4' ,''],\n",
    "    'age' : ['18' , '24' , '27' ,'24','']\n",
    "}\n",
    "\n"
   ]
  },
  {
   "cell_type": "code",
   "execution_count": 5,
   "id": "09c0379f-8ef2-4f27-86ce-240a0febf28b",
   "metadata": {},
   "outputs": [],
   "source": [
    "df = pd.DataFrame(people)\n"
   ]
  },
  {
   "cell_type": "code",
   "execution_count": 6,
   "id": "5c17b17f-b34f-451b-9948-8587056ecf07",
   "metadata": {},
   "outputs": [
    {
     "data": {
      "text/html": [
       "<div>\n",
       "<style scoped>\n",
       "    .dataframe tbody tr th:only-of-type {\n",
       "        vertical-align: middle;\n",
       "    }\n",
       "\n",
       "    .dataframe tbody tr th {\n",
       "        vertical-align: top;\n",
       "    }\n",
       "\n",
       "    .dataframe thead th {\n",
       "        text-align: right;\n",
       "    }\n",
       "</style>\n",
       "<table border=\"1\" class=\"dataframe\">\n",
       "  <thead>\n",
       "    <tr style=\"text-align: right;\">\n",
       "      <th></th>\n",
       "      <th>name</th>\n",
       "      <th>title</th>\n",
       "      <th>country</th>\n",
       "      <th>food</th>\n",
       "      <th>email</th>\n",
       "      <th>height_in_feet</th>\n",
       "      <th>age</th>\n",
       "    </tr>\n",
       "  </thead>\n",
       "  <tbody>\n",
       "    <tr>\n",
       "      <th>0</th>\n",
       "      <td>richard</td>\n",
       "      <td>singularity</td>\n",
       "      <td>united state</td>\n",
       "      <td>meat</td>\n",
       "      <td>richard@email.com</td>\n",
       "      <td>5.7</td>\n",
       "      <td>18</td>\n",
       "    </tr>\n",
       "    <tr>\n",
       "      <th>1</th>\n",
       "      <td>dahyun</td>\n",
       "      <td>kim</td>\n",
       "      <td>south korea</td>\n",
       "      <td>milk,chocklet milk</td>\n",
       "      <td>dahyun@email.com</td>\n",
       "      <td>5.3</td>\n",
       "      <td>24</td>\n",
       "    </tr>\n",
       "    <tr>\n",
       "      <th>2</th>\n",
       "      <td>nayeon</td>\n",
       "      <td></td>\n",
       "      <td>south korea</td>\n",
       "      <td>salmon sushi</td>\n",
       "      <td>nayeon@email.com</td>\n",
       "      <td>5.4</td>\n",
       "      <td>27</td>\n",
       "    </tr>\n",
       "    <tr>\n",
       "      <th>3</th>\n",
       "      <td>sana</td>\n",
       "      <td>minatozaki</td>\n",
       "      <td>japan</td>\n",
       "      <td>spicy food</td>\n",
       "      <td>sana@email.com</td>\n",
       "      <td>5.4</td>\n",
       "      <td>24</td>\n",
       "    </tr>\n",
       "    <tr>\n",
       "      <th>4</th>\n",
       "      <td></td>\n",
       "      <td></td>\n",
       "      <td></td>\n",
       "      <td></td>\n",
       "      <td></td>\n",
       "      <td></td>\n",
       "      <td></td>\n",
       "    </tr>\n",
       "  </tbody>\n",
       "</table>\n",
       "</div>"
      ],
      "text/plain": [
       "      name        title       country                food              email  \\\n",
       "0  richard  singularity  united state                meat  richard@email.com   \n",
       "1   dahyun          kim   south korea  milk,chocklet milk   dahyun@email.com   \n",
       "2   nayeon                south korea        salmon sushi   nayeon@email.com   \n",
       "3     sana   minatozaki         japan          spicy food     sana@email.com   \n",
       "4                                                                              \n",
       "\n",
       "  height_in_feet age  \n",
       "0            5.7  18  \n",
       "1            5.3  24  \n",
       "2            5.4  27  \n",
       "3            5.4  24  \n",
       "4                     "
      ]
     },
     "execution_count": 6,
     "metadata": {},
     "output_type": "execute_result"
    }
   ],
   "source": [
    "df"
   ]
  },
  {
   "cell_type": "code",
   "execution_count": null,
   "id": "f953c271-dd2c-4fea-a6c4-b269655f6b3e",
   "metadata": {},
   "outputs": [],
   "source": []
  }
 ],
 "metadata": {
  "kernelspec": {
   "display_name": "Python 3 (ipykernel)",
   "language": "python",
   "name": "python3"
  },
  "language_info": {
   "codemirror_mode": {
    "name": "ipython",
    "version": 3
   },
   "file_extension": ".py",
   "mimetype": "text/x-python",
   "name": "python",
   "nbconvert_exporter": "python",
   "pygments_lexer": "ipython3",
   "version": "3.10.8"
  }
 },
 "nbformat": 4,
 "nbformat_minor": 5
}
