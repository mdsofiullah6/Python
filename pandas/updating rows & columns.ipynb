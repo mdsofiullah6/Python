{
 "cells": [
  {
   "cell_type": "code",
   "execution_count": 1,
   "id": "2c609b9b-e0ab-4742-8a82-f64b82995fe4",
   "metadata": {
    "canvas": {
     "comments": [],
     "componentType": "CodeCell",
     "copiedOriginId": null,
     "diskcache": false,
     "headerColor": "none",
     "id": "8fb72a22-3e50-43fc-9952-650dcc13fcee",
     "isComponent": false,
     "name": "",
     "parents": []
    }
   },
   "outputs": [],
   "source": [
    "import matplotlib.pyplot as plt "
   ]
  },
  {
   "cell_type": "code",
   "execution_count": 1,
   "id": "0504eff0-b170-41a2-b469-8bef818c8adf",
   "metadata": {
    "canvas": {
     "comments": [],
     "componentType": "CodeCell",
     "copiedOriginId": null,
     "diskcache": false,
     "headerColor": "none",
     "id": "2746b848-6e4f-47e7-8ba5-88bdadb1d063",
     "isComponent": false,
     "name": "",
     "parents": []
    }
   },
   "outputs": [],
   "source": [
    "import pandas as pd\n",
    "import numpy as np"
   ]
  },
  {
   "cell_type": "code",
   "execution_count": 2,
   "id": "9c9ed43a-e0ca-4647-855f-ba4dd3109df5",
   "metadata": {
    "canvas": {
     "comments": [],
     "componentType": "CodeCell",
     "copiedOriginId": null,
     "diskcache": false,
     "headerColor": "none",
     "id": "537ae747-8e68-49e6-8803-d2b54c85c94f",
     "isComponent": false,
     "name": "",
     "parents": []
    }
   },
   "outputs": [],
   "source": [
    "people = {\n",
    "    'name' : ['richard', 'dahyun' , 'nayeon' , 'sana',''],\n",
    "    'title' : ['singularity','kim', '' , 'minatozaki',''],\n",
    "    'country' : ['united state' , 'south korea' , 'south korea', 'japan' ,''],\n",
    "    'food' : ['meat' , 'milk,chocklet milk' , 'salmon sushi','spicy food',''],\n",
    "    'email' : ['richard@email.com' , 'dahyun@email.com' , 'nayeon@email.com', 'sana@email.com',''] ,\n",
    "    'height_in_feet' : ['5.7' , '5.3' , '5.4', '5.4' ,''],\n",
    "    'age' : ['18' , '24' , '27' ,'24','']\n",
    "}\n",
    "\n"
   ]
  },
  {
   "cell_type": "code",
   "execution_count": 3,
   "id": "48eb405a-5910-4069-b05f-466cb91972c4",
   "metadata": {
    "canvas": {
     "comments": [],
     "componentType": "CodeCell",
     "copiedOriginId": null,
     "diskcache": false,
     "headerColor": "none",
     "id": "7f53f9c4-1af4-48ef-9efa-40ee725c123b",
     "isComponent": false,
     "name": "",
     "parents": []
    }
   },
   "outputs": [
    {
     "data": {
      "text/html": [
       "<div>\n",
       "<style scoped>\n",
       "    .dataframe tbody tr th:only-of-type {\n",
       "        vertical-align: middle;\n",
       "    }\n",
       "\n",
       "    .dataframe tbody tr th {\n",
       "        vertical-align: top;\n",
       "    }\n",
       "\n",
       "    .dataframe thead th {\n",
       "        text-align: right;\n",
       "    }\n",
       "</style>\n",
       "<table border=\"1\" class=\"dataframe\">\n",
       "  <thead>\n",
       "    <tr style=\"text-align: right;\">\n",
       "      <th></th>\n",
       "      <th>name</th>\n",
       "      <th>title</th>\n",
       "      <th>country</th>\n",
       "      <th>food</th>\n",
       "      <th>email</th>\n",
       "      <th>height_in_feet</th>\n",
       "      <th>age</th>\n",
       "    </tr>\n",
       "  </thead>\n",
       "  <tbody>\n",
       "    <tr>\n",
       "      <th>0</th>\n",
       "      <td>richard</td>\n",
       "      <td>singularity</td>\n",
       "      <td>united state</td>\n",
       "      <td>meat</td>\n",
       "      <td>richard@email.com</td>\n",
       "      <td>5.7</td>\n",
       "      <td>18</td>\n",
       "    </tr>\n",
       "    <tr>\n",
       "      <th>1</th>\n",
       "      <td>dahyun</td>\n",
       "      <td>kim</td>\n",
       "      <td>south korea</td>\n",
       "      <td>milk,chocklet milk</td>\n",
       "      <td>dahyun@email.com</td>\n",
       "      <td>5.3</td>\n",
       "      <td>24</td>\n",
       "    </tr>\n",
       "    <tr>\n",
       "      <th>2</th>\n",
       "      <td>nayeon</td>\n",
       "      <td></td>\n",
       "      <td>south korea</td>\n",
       "      <td>salmon sushi</td>\n",
       "      <td>nayeon@email.com</td>\n",
       "      <td>5.4</td>\n",
       "      <td>27</td>\n",
       "    </tr>\n",
       "    <tr>\n",
       "      <th>3</th>\n",
       "      <td>sana</td>\n",
       "      <td>minatozaki</td>\n",
       "      <td>japan</td>\n",
       "      <td>spicy food</td>\n",
       "      <td>sana@email.com</td>\n",
       "      <td>5.4</td>\n",
       "      <td>24</td>\n",
       "    </tr>\n",
       "    <tr>\n",
       "      <th>4</th>\n",
       "      <td></td>\n",
       "      <td></td>\n",
       "      <td></td>\n",
       "      <td></td>\n",
       "      <td></td>\n",
       "      <td></td>\n",
       "      <td></td>\n",
       "    </tr>\n",
       "  </tbody>\n",
       "</table>\n",
       "</div>"
      ],
      "text/plain": [
       "      name        title       country                food              email  \\\n",
       "0  richard  singularity  united state                meat  richard@email.com   \n",
       "1   dahyun          kim   south korea  milk,chocklet milk   dahyun@email.com   \n",
       "2   nayeon                south korea        salmon sushi   nayeon@email.com   \n",
       "3     sana   minatozaki         japan          spicy food     sana@email.com   \n",
       "4                                                                              \n",
       "\n",
       "  height_in_feet age  \n",
       "0            5.7  18  \n",
       "1            5.3  24  \n",
       "2            5.4  27  \n",
       "3            5.4  24  \n",
       "4                     "
      ]
     },
     "execution_count": 3,
     "metadata": {},
     "output_type": "execute_result"
    }
   ],
   "source": [
    "df = pd.DataFrame(people)\n",
    "df"
   ]
  },
  {
   "cell_type": "code",
   "execution_count": 4,
   "id": "55bc5b77-652e-4b49-857f-d56fc3ee4ef4",
   "metadata": {
    "canvas": {
     "comments": [],
     "componentType": "CodeCell",
     "copiedOriginId": null,
     "diskcache": false,
     "headerColor": "none",
     "id": "c6571ce3-ad47-48be-9e18-109434eccf46",
     "isComponent": false,
     "name": "",
     "parents": []
    }
   },
   "outputs": [
    {
     "data": {
      "text/plain": [
       "Index(['name', 'title', 'country', 'food', 'email', 'height_in_feet', 'age'], dtype='object')"
      ]
     },
     "execution_count": 4,
     "metadata": {},
     "output_type": "execute_result"
    }
   ],
   "source": [
    "df.columns\n"
   ]
  },
  {
   "cell_type": "markdown",
   "id": "63ffb499-8b3a-497c-a9ef-9fdd64eabf13",
   "metadata": {
    "canvas": {
     "comments": [],
     "componentType": "CodeCell",
     "copiedOriginId": null,
     "diskcache": false,
     "headerColor": "none",
     "id": "f066a83a-fe97-42d1-8adb-c6e944adaa9f",
     "isComponent": false,
     "name": "",
     "parents": []
    }
   },
   "source": [
    "# Updating Columns"
   ]
  },
  {
   "cell_type": "code",
   "execution_count": 5,
   "id": "61415b5b-b834-4a5d-9533-694878322bbc",
   "metadata": {
    "canvas": {
     "comments": [],
     "componentType": "CodeCell",
     "copiedOriginId": null,
     "diskcache": false,
     "headerColor": "none",
     "id": "30e2bb9c-58e8-4541-a802-df659d0c1a47",
     "isComponent": false,
     "name": "",
     "parents": []
    }
   },
   "outputs": [],
   "source": [
    "df.columns = ['First_name','Title_name','Country_live_in','Food_loved','Email','Height','Age']"
   ]
  },
  {
   "cell_type": "code",
   "execution_count": 6,
   "id": "8ba26bd6-3ea4-4476-a4cb-6aa84f46ec57",
   "metadata": {
    "canvas": {
     "comments": [],
     "componentType": "CodeCell",
     "copiedOriginId": null,
     "diskcache": false,
     "headerColor": "none",
     "id": "f03dc331-b2b9-4142-ab98-37905a562ba9",
     "isComponent": false,
     "name": "",
     "parents": []
    }
   },
   "outputs": [
    {
     "data": {
      "text/plain": [
       "Index(['First_name', 'Title_name', 'Country_live_in', 'Food_loved', 'Email',\n",
       "       'Height', 'Age'],\n",
       "      dtype='object')"
      ]
     },
     "execution_count": 6,
     "metadata": {},
     "output_type": "execute_result"
    }
   ],
   "source": [
    "df.columns"
   ]
  },
  {
   "cell_type": "code",
   "execution_count": 7,
   "id": "5a11ce9c-1463-4a0b-9173-b45097abceab",
   "metadata": {
    "canvas": {
     "comments": [],
     "componentType": "CodeCell",
     "copiedOriginId": null,
     "diskcache": false,
     "headerColor": "none",
     "id": "500638fe-45c5-403a-845f-e445b3bc8c15",
     "isComponent": false,
     "name": "",
     "parents": []
    }
   },
   "outputs": [
    {
     "data": {
      "text/html": [
       "<div>\n",
       "<style scoped>\n",
       "    .dataframe tbody tr th:only-of-type {\n",
       "        vertical-align: middle;\n",
       "    }\n",
       "\n",
       "    .dataframe tbody tr th {\n",
       "        vertical-align: top;\n",
       "    }\n",
       "\n",
       "    .dataframe thead th {\n",
       "        text-align: right;\n",
       "    }\n",
       "</style>\n",
       "<table border=\"1\" class=\"dataframe\">\n",
       "  <thead>\n",
       "    <tr style=\"text-align: right;\">\n",
       "      <th></th>\n",
       "      <th>First_name</th>\n",
       "      <th>Title_name</th>\n",
       "      <th>Country_live_in</th>\n",
       "      <th>Food_loved</th>\n",
       "      <th>Email</th>\n",
       "      <th>Height</th>\n",
       "      <th>Age</th>\n",
       "    </tr>\n",
       "  </thead>\n",
       "  <tbody>\n",
       "    <tr>\n",
       "      <th>0</th>\n",
       "      <td>richard</td>\n",
       "      <td>singularity</td>\n",
       "      <td>united state</td>\n",
       "      <td>meat</td>\n",
       "      <td>richard@email.com</td>\n",
       "      <td>5.7</td>\n",
       "      <td>18</td>\n",
       "    </tr>\n",
       "    <tr>\n",
       "      <th>1</th>\n",
       "      <td>dahyun</td>\n",
       "      <td>kim</td>\n",
       "      <td>south korea</td>\n",
       "      <td>milk,chocklet milk</td>\n",
       "      <td>dahyun@email.com</td>\n",
       "      <td>5.3</td>\n",
       "      <td>24</td>\n",
       "    </tr>\n",
       "    <tr>\n",
       "      <th>2</th>\n",
       "      <td>nayeon</td>\n",
       "      <td></td>\n",
       "      <td>south korea</td>\n",
       "      <td>salmon sushi</td>\n",
       "      <td>nayeon@email.com</td>\n",
       "      <td>5.4</td>\n",
       "      <td>27</td>\n",
       "    </tr>\n",
       "    <tr>\n",
       "      <th>3</th>\n",
       "      <td>sana</td>\n",
       "      <td>minatozaki</td>\n",
       "      <td>japan</td>\n",
       "      <td>spicy food</td>\n",
       "      <td>sana@email.com</td>\n",
       "      <td>5.4</td>\n",
       "      <td>24</td>\n",
       "    </tr>\n",
       "    <tr>\n",
       "      <th>4</th>\n",
       "      <td></td>\n",
       "      <td></td>\n",
       "      <td></td>\n",
       "      <td></td>\n",
       "      <td></td>\n",
       "      <td></td>\n",
       "      <td></td>\n",
       "    </tr>\n",
       "  </tbody>\n",
       "</table>\n",
       "</div>"
      ],
      "text/plain": [
       "  First_name   Title_name Country_live_in          Food_loved  \\\n",
       "0    richard  singularity    united state                meat   \n",
       "1     dahyun          kim     south korea  milk,chocklet milk   \n",
       "2     nayeon                  south korea        salmon sushi   \n",
       "3       sana   minatozaki           japan          spicy food   \n",
       "4                                                               \n",
       "\n",
       "               Email Height Age  \n",
       "0  richard@email.com    5.7  18  \n",
       "1   dahyun@email.com    5.3  24  \n",
       "2   nayeon@email.com    5.4  27  \n",
       "3     sana@email.com    5.4  24  \n",
       "4                                "
      ]
     },
     "execution_count": 7,
     "metadata": {},
     "output_type": "execute_result"
    }
   ],
   "source": [
    "df"
   ]
  },
  {
   "cell_type": "markdown",
   "id": "66f9ab28-ece4-4487-8976-e93253eb8d9c",
   "metadata": {
    "canvas": {
     "comments": [],
     "componentType": "CodeCell",
     "copiedOriginId": null,
     "diskcache": false,
     "headerColor": "none",
     "id": "4f32279e-3881-4e6c-9319-1ab51eff427e",
     "isComponent": false,
     "name": "",
     "parents": []
    }
   },
   "source": [
    "# List Comprehintion \n",
    "mathod to upper case"
   ]
  },
  {
   "cell_type": "code",
   "execution_count": 8,
   "id": "851a8e0d-7332-4054-81e0-4d9bd9243c88",
   "metadata": {
    "canvas": {
     "comments": [],
     "componentType": "CodeCell",
     "copiedOriginId": null,
     "diskcache": false,
     "headerColor": "none",
     "id": "88d273ef-efe0-4d68-8f32-580d3d45fbd8",
     "isComponent": false,
     "name": "",
     "parents": []
    }
   },
   "outputs": [],
   "source": [
    "df.columns = [x.upper() for x in df.columns]"
   ]
  },
  {
   "cell_type": "code",
   "execution_count": 9,
   "id": "ad21fb08-6785-40b8-8847-384b502070c3",
   "metadata": {
    "canvas": {
     "comments": [],
     "componentType": "CodeCell",
     "copiedOriginId": null,
     "diskcache": false,
     "headerColor": "none",
     "id": "f48bbbba-3e15-4b85-8375-a3dea9ed5d37",
     "isComponent": false,
     "name": "",
     "parents": []
    }
   },
   "outputs": [
    {
     "data": {
      "text/html": [
       "<div>\n",
       "<style scoped>\n",
       "    .dataframe tbody tr th:only-of-type {\n",
       "        vertical-align: middle;\n",
       "    }\n",
       "\n",
       "    .dataframe tbody tr th {\n",
       "        vertical-align: top;\n",
       "    }\n",
       "\n",
       "    .dataframe thead th {\n",
       "        text-align: right;\n",
       "    }\n",
       "</style>\n",
       "<table border=\"1\" class=\"dataframe\">\n",
       "  <thead>\n",
       "    <tr style=\"text-align: right;\">\n",
       "      <th></th>\n",
       "      <th>FIRST_NAME</th>\n",
       "      <th>TITLE_NAME</th>\n",
       "      <th>COUNTRY_LIVE_IN</th>\n",
       "      <th>FOOD_LOVED</th>\n",
       "      <th>EMAIL</th>\n",
       "      <th>HEIGHT</th>\n",
       "      <th>AGE</th>\n",
       "    </tr>\n",
       "  </thead>\n",
       "  <tbody>\n",
       "    <tr>\n",
       "      <th>0</th>\n",
       "      <td>richard</td>\n",
       "      <td>singularity</td>\n",
       "      <td>united state</td>\n",
       "      <td>meat</td>\n",
       "      <td>richard@email.com</td>\n",
       "      <td>5.7</td>\n",
       "      <td>18</td>\n",
       "    </tr>\n",
       "    <tr>\n",
       "      <th>1</th>\n",
       "      <td>dahyun</td>\n",
       "      <td>kim</td>\n",
       "      <td>south korea</td>\n",
       "      <td>milk,chocklet milk</td>\n",
       "      <td>dahyun@email.com</td>\n",
       "      <td>5.3</td>\n",
       "      <td>24</td>\n",
       "    </tr>\n",
       "    <tr>\n",
       "      <th>2</th>\n",
       "      <td>nayeon</td>\n",
       "      <td></td>\n",
       "      <td>south korea</td>\n",
       "      <td>salmon sushi</td>\n",
       "      <td>nayeon@email.com</td>\n",
       "      <td>5.4</td>\n",
       "      <td>27</td>\n",
       "    </tr>\n",
       "    <tr>\n",
       "      <th>3</th>\n",
       "      <td>sana</td>\n",
       "      <td>minatozaki</td>\n",
       "      <td>japan</td>\n",
       "      <td>spicy food</td>\n",
       "      <td>sana@email.com</td>\n",
       "      <td>5.4</td>\n",
       "      <td>24</td>\n",
       "    </tr>\n",
       "    <tr>\n",
       "      <th>4</th>\n",
       "      <td></td>\n",
       "      <td></td>\n",
       "      <td></td>\n",
       "      <td></td>\n",
       "      <td></td>\n",
       "      <td></td>\n",
       "      <td></td>\n",
       "    </tr>\n",
       "  </tbody>\n",
       "</table>\n",
       "</div>"
      ],
      "text/plain": [
       "  FIRST_NAME   TITLE_NAME COUNTRY_LIVE_IN          FOOD_LOVED  \\\n",
       "0    richard  singularity    united state                meat   \n",
       "1     dahyun          kim     south korea  milk,chocklet milk   \n",
       "2     nayeon                  south korea        salmon sushi   \n",
       "3       sana   minatozaki           japan          spicy food   \n",
       "4                                                               \n",
       "\n",
       "               EMAIL HEIGHT AGE  \n",
       "0  richard@email.com    5.7  18  \n",
       "1   dahyun@email.com    5.3  24  \n",
       "2   nayeon@email.com    5.4  27  \n",
       "3     sana@email.com    5.4  24  \n",
       "4                                "
      ]
     },
     "execution_count": 9,
     "metadata": {},
     "output_type": "execute_result"
    }
   ],
   "source": [
    "df"
   ]
  },
  {
   "cell_type": "markdown",
   "id": "c4aa5f2f-a511-4fbf-97f0-982977ae00e4",
   "metadata": {
    "canvas": {
     "comments": [],
     "componentType": "CodeCell",
     "copiedOriginId": null,
     "diskcache": false,
     "headerColor": "none",
     "id": "bda091de-7ff4-4cd2-a5e9-fe27516ec0f2",
     "isComponent": false,
     "name": "",
     "parents": []
    }
   },
   "source": [
    "# Add or Remove Undersocor"
   ]
  },
  {
   "cell_type": "code",
   "execution_count": 10,
   "id": "d888cef8-28cb-49de-b225-b48b77541fe2",
   "metadata": {
    "canvas": {
     "comments": [],
     "componentType": "CodeCell",
     "copiedOriginId": null,
     "diskcache": false,
     "headerColor": "none",
     "id": "32710fb0-a947-48c9-b0c3-a9c3d99a2492",
     "isComponent": false,
     "name": "",
     "parents": []
    }
   },
   "outputs": [
    {
     "data": {
      "text/html": [
       "<div>\n",
       "<style scoped>\n",
       "    .dataframe tbody tr th:only-of-type {\n",
       "        vertical-align: middle;\n",
       "    }\n",
       "\n",
       "    .dataframe tbody tr th {\n",
       "        vertical-align: top;\n",
       "    }\n",
       "\n",
       "    .dataframe thead th {\n",
       "        text-align: right;\n",
       "    }\n",
       "</style>\n",
       "<table border=\"1\" class=\"dataframe\">\n",
       "  <thead>\n",
       "    <tr style=\"text-align: right;\">\n",
       "      <th></th>\n",
       "      <th>FIRST_NAME</th>\n",
       "      <th>TITLE_NAME</th>\n",
       "      <th>COUNTRY_LIVE_IN</th>\n",
       "      <th>FOOD_LOVED</th>\n",
       "      <th>EMAIL</th>\n",
       "      <th>HEIGHT</th>\n",
       "      <th>AGE</th>\n",
       "    </tr>\n",
       "  </thead>\n",
       "  <tbody>\n",
       "    <tr>\n",
       "      <th>0</th>\n",
       "      <td>richard</td>\n",
       "      <td>singularity</td>\n",
       "      <td>united state</td>\n",
       "      <td>meat</td>\n",
       "      <td>richard@email.com</td>\n",
       "      <td>5.7</td>\n",
       "      <td>18</td>\n",
       "    </tr>\n",
       "    <tr>\n",
       "      <th>1</th>\n",
       "      <td>dahyun</td>\n",
       "      <td>kim</td>\n",
       "      <td>south korea</td>\n",
       "      <td>milk,chocklet milk</td>\n",
       "      <td>dahyun@email.com</td>\n",
       "      <td>5.3</td>\n",
       "      <td>24</td>\n",
       "    </tr>\n",
       "    <tr>\n",
       "      <th>2</th>\n",
       "      <td>nayeon</td>\n",
       "      <td></td>\n",
       "      <td>south korea</td>\n",
       "      <td>salmon sushi</td>\n",
       "      <td>nayeon@email.com</td>\n",
       "      <td>5.4</td>\n",
       "      <td>27</td>\n",
       "    </tr>\n",
       "    <tr>\n",
       "      <th>3</th>\n",
       "      <td>sana</td>\n",
       "      <td>minatozaki</td>\n",
       "      <td>japan</td>\n",
       "      <td>spicy food</td>\n",
       "      <td>sana@email.com</td>\n",
       "      <td>5.4</td>\n",
       "      <td>24</td>\n",
       "    </tr>\n",
       "    <tr>\n",
       "      <th>4</th>\n",
       "      <td></td>\n",
       "      <td></td>\n",
       "      <td></td>\n",
       "      <td></td>\n",
       "      <td></td>\n",
       "      <td></td>\n",
       "      <td></td>\n",
       "    </tr>\n",
       "  </tbody>\n",
       "</table>\n",
       "</div>"
      ],
      "text/plain": [
       "  FIRST_NAME   TITLE_NAME COUNTRY_LIVE_IN          FOOD_LOVED  \\\n",
       "0    richard  singularity    united state                meat   \n",
       "1     dahyun          kim     south korea  milk,chocklet milk   \n",
       "2     nayeon                  south korea        salmon sushi   \n",
       "3       sana   minatozaki           japan          spicy food   \n",
       "4                                                               \n",
       "\n",
       "               EMAIL HEIGHT AGE  \n",
       "0  richard@email.com    5.7  18  \n",
       "1   dahyun@email.com    5.3  24  \n",
       "2   nayeon@email.com    5.4  27  \n",
       "3     sana@email.com    5.4  24  \n",
       "4                                "
      ]
     },
     "execution_count": 10,
     "metadata": {},
     "output_type": "execute_result"
    }
   ],
   "source": [
    "df.columns = df.columns.str.replace(' ','_')\n",
    "df"
   ]
  },
  {
   "cell_type": "markdown",
   "id": "4a152bfb-fd50-4b97-bcf6-2ef5ab8ac7a3",
   "metadata": {
    "canvas": {
     "comments": [],
     "componentType": "CodeCell",
     "copiedOriginId": null,
     "diskcache": false,
     "headerColor": "none",
     "id": "5f77f91b-98be-4632-b1d5-0c47cfe7c6b0",
     "isComponent": false,
     "name": "",
     "parents": []
    }
   },
   "source": [
    "# Rename or Updating Database Columns"
   ]
  },
  {
   "cell_type": "code",
   "execution_count": 11,
   "id": "de38e143-e7b9-40ac-abc1-963a86a3f425",
   "metadata": {
    "canvas": {
     "comments": [],
     "componentType": "CodeCell",
     "copiedOriginId": null,
     "diskcache": false,
     "headerColor": "none",
     "id": "f8d4d79f-a0dd-44e9-abfe-43d4c59d2df5",
     "isComponent": false,
     "name": "",
     "parents": []
    }
   },
   "outputs": [
    {
     "data": {
      "text/html": [
       "<div>\n",
       "<style scoped>\n",
       "    .dataframe tbody tr th:only-of-type {\n",
       "        vertical-align: middle;\n",
       "    }\n",
       "\n",
       "    .dataframe tbody tr th {\n",
       "        vertical-align: top;\n",
       "    }\n",
       "\n",
       "    .dataframe thead th {\n",
       "        text-align: right;\n",
       "    }\n",
       "</style>\n",
       "<table border=\"1\" class=\"dataframe\">\n",
       "  <thead>\n",
       "    <tr style=\"text-align: right;\">\n",
       "      <th></th>\n",
       "      <th>FIRST</th>\n",
       "      <th>TITLE</th>\n",
       "      <th>COUNTRY_LIVE_IN</th>\n",
       "      <th>FOOD_LOVED</th>\n",
       "      <th>EMAIL</th>\n",
       "      <th>HEIGHT</th>\n",
       "      <th>AGE</th>\n",
       "    </tr>\n",
       "  </thead>\n",
       "  <tbody>\n",
       "    <tr>\n",
       "      <th>0</th>\n",
       "      <td>richard</td>\n",
       "      <td>singularity</td>\n",
       "      <td>united state</td>\n",
       "      <td>meat</td>\n",
       "      <td>richard@email.com</td>\n",
       "      <td>5.7</td>\n",
       "      <td>18</td>\n",
       "    </tr>\n",
       "    <tr>\n",
       "      <th>1</th>\n",
       "      <td>dahyun</td>\n",
       "      <td>kim</td>\n",
       "      <td>south korea</td>\n",
       "      <td>milk,chocklet milk</td>\n",
       "      <td>dahyun@email.com</td>\n",
       "      <td>5.3</td>\n",
       "      <td>24</td>\n",
       "    </tr>\n",
       "    <tr>\n",
       "      <th>2</th>\n",
       "      <td>nayeon</td>\n",
       "      <td></td>\n",
       "      <td>south korea</td>\n",
       "      <td>salmon sushi</td>\n",
       "      <td>nayeon@email.com</td>\n",
       "      <td>5.4</td>\n",
       "      <td>27</td>\n",
       "    </tr>\n",
       "    <tr>\n",
       "      <th>3</th>\n",
       "      <td>sana</td>\n",
       "      <td>minatozaki</td>\n",
       "      <td>japan</td>\n",
       "      <td>spicy food</td>\n",
       "      <td>sana@email.com</td>\n",
       "      <td>5.4</td>\n",
       "      <td>24</td>\n",
       "    </tr>\n",
       "    <tr>\n",
       "      <th>4</th>\n",
       "      <td></td>\n",
       "      <td></td>\n",
       "      <td></td>\n",
       "      <td></td>\n",
       "      <td></td>\n",
       "      <td></td>\n",
       "      <td></td>\n",
       "    </tr>\n",
       "  </tbody>\n",
       "</table>\n",
       "</div>"
      ],
      "text/plain": [
       "     FIRST        TITLE COUNTRY_LIVE_IN          FOOD_LOVED  \\\n",
       "0  richard  singularity    united state                meat   \n",
       "1   dahyun          kim     south korea  milk,chocklet milk   \n",
       "2   nayeon                  south korea        salmon sushi   \n",
       "3     sana   minatozaki           japan          spicy food   \n",
       "4                                                             \n",
       "\n",
       "               EMAIL HEIGHT AGE  \n",
       "0  richard@email.com    5.7  18  \n",
       "1   dahyun@email.com    5.3  24  \n",
       "2   nayeon@email.com    5.4  27  \n",
       "3     sana@email.com    5.4  24  \n",
       "4                                "
      ]
     },
     "execution_count": 11,
     "metadata": {},
     "output_type": "execute_result"
    }
   ],
   "source": [
    "df.rename(columns ={ 'TITLE_NAME' :'TITLE', 'FIRST_NAME': 'FIRST'} , inplace = True)\n",
    "df"
   ]
  },
  {
   "cell_type": "markdown",
   "id": "4348da8d-2768-4d9b-9e20-9deb23c83fe5",
   "metadata": {
    "canvas": {
     "comments": [],
     "componentType": "CodeCell",
     "copiedOriginId": null,
     "diskcache": false,
     "headerColor": "none",
     "id": "8bfae6ca-c601-4250-a80d-afe3f270a5f3",
     "isComponent": false,
     "name": "",
     "parents": []
    }
   },
   "source": [
    "# Updating one singel index"
   ]
  },
  {
   "cell_type": "code",
   "execution_count": 12,
   "id": "415cee1d-c37e-4378-a5d1-7e628bc980b5",
   "metadata": {
    "canvas": {
     "comments": [],
     "componentType": "CodeCell",
     "copiedOriginId": null,
     "diskcache": false,
     "headerColor": "none",
     "id": "c4ae643f-131c-487f-bdcb-a1a0fcf15761",
     "isComponent": false,
     "name": "",
     "parents": []
    }
   },
   "outputs": [],
   "source": [
    "df.loc[2,['HEIGHT','AGE']] = ['5.6','18']"
   ]
  },
  {
   "cell_type": "code",
   "execution_count": 13,
   "id": "090cb80f-5f7e-40b9-90ec-659877f059d3",
   "metadata": {
    "canvas": {
     "comments": [],
     "componentType": "CodeCell",
     "copiedOriginId": null,
     "diskcache": false,
     "headerColor": "none",
     "id": "7516ac68-4242-4c55-9dee-2f6978cdf4e7",
     "isComponent": false,
     "name": "",
     "parents": []
    }
   },
   "outputs": [
    {
     "data": {
      "text/html": [
       "<div>\n",
       "<style scoped>\n",
       "    .dataframe tbody tr th:only-of-type {\n",
       "        vertical-align: middle;\n",
       "    }\n",
       "\n",
       "    .dataframe tbody tr th {\n",
       "        vertical-align: top;\n",
       "    }\n",
       "\n",
       "    .dataframe thead th {\n",
       "        text-align: right;\n",
       "    }\n",
       "</style>\n",
       "<table border=\"1\" class=\"dataframe\">\n",
       "  <thead>\n",
       "    <tr style=\"text-align: right;\">\n",
       "      <th></th>\n",
       "      <th>FIRST</th>\n",
       "      <th>TITLE</th>\n",
       "      <th>COUNTRY_LIVE_IN</th>\n",
       "      <th>FOOD_LOVED</th>\n",
       "      <th>EMAIL</th>\n",
       "      <th>HEIGHT</th>\n",
       "      <th>AGE</th>\n",
       "    </tr>\n",
       "  </thead>\n",
       "  <tbody>\n",
       "    <tr>\n",
       "      <th>0</th>\n",
       "      <td>richard</td>\n",
       "      <td>singularity</td>\n",
       "      <td>united state</td>\n",
       "      <td>meat</td>\n",
       "      <td>richard@email.com</td>\n",
       "      <td>5.7</td>\n",
       "      <td>18</td>\n",
       "    </tr>\n",
       "    <tr>\n",
       "      <th>1</th>\n",
       "      <td>dahyun</td>\n",
       "      <td>kim</td>\n",
       "      <td>south korea</td>\n",
       "      <td>milk,chocklet milk</td>\n",
       "      <td>dahyun@email.com</td>\n",
       "      <td>5.3</td>\n",
       "      <td>24</td>\n",
       "    </tr>\n",
       "    <tr>\n",
       "      <th>2</th>\n",
       "      <td>nayeon</td>\n",
       "      <td></td>\n",
       "      <td>south korea</td>\n",
       "      <td>salmon sushi</td>\n",
       "      <td>nayeon@email.com</td>\n",
       "      <td>5.6</td>\n",
       "      <td>18</td>\n",
       "    </tr>\n",
       "    <tr>\n",
       "      <th>3</th>\n",
       "      <td>sana</td>\n",
       "      <td>minatozaki</td>\n",
       "      <td>japan</td>\n",
       "      <td>spicy food</td>\n",
       "      <td>sana@email.com</td>\n",
       "      <td>5.4</td>\n",
       "      <td>24</td>\n",
       "    </tr>\n",
       "    <tr>\n",
       "      <th>4</th>\n",
       "      <td></td>\n",
       "      <td></td>\n",
       "      <td></td>\n",
       "      <td></td>\n",
       "      <td></td>\n",
       "      <td></td>\n",
       "      <td></td>\n",
       "    </tr>\n",
       "  </tbody>\n",
       "</table>\n",
       "</div>"
      ],
      "text/plain": [
       "     FIRST        TITLE COUNTRY_LIVE_IN          FOOD_LOVED  \\\n",
       "0  richard  singularity    united state                meat   \n",
       "1   dahyun          kim     south korea  milk,chocklet milk   \n",
       "2   nayeon                  south korea        salmon sushi   \n",
       "3     sana   minatozaki           japan          spicy food   \n",
       "4                                                             \n",
       "\n",
       "               EMAIL HEIGHT AGE  \n",
       "0  richard@email.com    5.7  18  \n",
       "1   dahyun@email.com    5.3  24  \n",
       "2   nayeon@email.com    5.6  18  \n",
       "3     sana@email.com    5.4  24  \n",
       "4                                "
      ]
     },
     "execution_count": 13,
     "metadata": {},
     "output_type": "execute_result"
    }
   ],
   "source": [
    "df"
   ]
  },
  {
   "cell_type": "markdown",
   "id": "d340653b-b39b-4db4-aff2-43d4a068fecd",
   "metadata": {
    "canvas": {
     "comments": [],
     "componentType": "CodeCell",
     "copiedOriginId": null,
     "diskcache": false,
     "headerColor": "none",
     "id": "0324a2c3-2412-4181-8dd7-b263ee344e03",
     "isComponent": false,
     "name": "",
     "parents": []
    }
   },
   "source": [
    "# Updating index without spacifing"
   ]
  },
  {
   "cell_type": "code",
   "execution_count": 14,
   "id": "14aa4f42-9d8f-4a79-a68a-bf3c50446e9f",
   "metadata": {
    "canvas": {
     "comments": [],
     "componentType": "CodeCell",
     "copiedOriginId": null,
     "diskcache": false,
     "headerColor": "none",
     "id": "ef87bb07-d742-40c2-bed6-2b80f71ef0ca",
     "isComponent": false,
     "name": "",
     "parents": []
    }
   },
   "outputs": [],
   "source": [
    "df.loc[4] = ['Jisoo','Kim','south korea','meat','jisoo@email.com','5.4','28']"
   ]
  },
  {
   "cell_type": "code",
   "execution_count": 15,
   "id": "6d54afa7-ac41-4170-9d35-c21c1b6543b6",
   "metadata": {
    "canvas": {
     "comments": [],
     "componentType": "CodeCell",
     "copiedOriginId": null,
     "diskcache": false,
     "headerColor": "none",
     "id": "aa349677-08a7-46de-ba08-d52081e08ff9",
     "isComponent": false,
     "name": "",
     "parents": []
    }
   },
   "outputs": [
    {
     "data": {
      "text/html": [
       "<div>\n",
       "<style scoped>\n",
       "    .dataframe tbody tr th:only-of-type {\n",
       "        vertical-align: middle;\n",
       "    }\n",
       "\n",
       "    .dataframe tbody tr th {\n",
       "        vertical-align: top;\n",
       "    }\n",
       "\n",
       "    .dataframe thead th {\n",
       "        text-align: right;\n",
       "    }\n",
       "</style>\n",
       "<table border=\"1\" class=\"dataframe\">\n",
       "  <thead>\n",
       "    <tr style=\"text-align: right;\">\n",
       "      <th></th>\n",
       "      <th>FIRST</th>\n",
       "      <th>TITLE</th>\n",
       "      <th>COUNTRY_LIVE_IN</th>\n",
       "      <th>FOOD_LOVED</th>\n",
       "      <th>EMAIL</th>\n",
       "      <th>HEIGHT</th>\n",
       "      <th>AGE</th>\n",
       "    </tr>\n",
       "  </thead>\n",
       "  <tbody>\n",
       "    <tr>\n",
       "      <th>0</th>\n",
       "      <td>richard</td>\n",
       "      <td>singularity</td>\n",
       "      <td>united state</td>\n",
       "      <td>meat</td>\n",
       "      <td>richard@email.com</td>\n",
       "      <td>5.7</td>\n",
       "      <td>18</td>\n",
       "    </tr>\n",
       "    <tr>\n",
       "      <th>1</th>\n",
       "      <td>dahyun</td>\n",
       "      <td>kim</td>\n",
       "      <td>south korea</td>\n",
       "      <td>milk,chocklet milk</td>\n",
       "      <td>dahyun@email.com</td>\n",
       "      <td>5.3</td>\n",
       "      <td>24</td>\n",
       "    </tr>\n",
       "    <tr>\n",
       "      <th>2</th>\n",
       "      <td>nayeon</td>\n",
       "      <td></td>\n",
       "      <td>south korea</td>\n",
       "      <td>salmon sushi</td>\n",
       "      <td>nayeon@email.com</td>\n",
       "      <td>5.6</td>\n",
       "      <td>18</td>\n",
       "    </tr>\n",
       "    <tr>\n",
       "      <th>3</th>\n",
       "      <td>sana</td>\n",
       "      <td>minatozaki</td>\n",
       "      <td>japan</td>\n",
       "      <td>spicy food</td>\n",
       "      <td>sana@email.com</td>\n",
       "      <td>5.4</td>\n",
       "      <td>24</td>\n",
       "    </tr>\n",
       "    <tr>\n",
       "      <th>4</th>\n",
       "      <td>Jisoo</td>\n",
       "      <td>Kim</td>\n",
       "      <td>south korea</td>\n",
       "      <td>meat</td>\n",
       "      <td>jisoo@email.com</td>\n",
       "      <td>5.4</td>\n",
       "      <td>28</td>\n",
       "    </tr>\n",
       "  </tbody>\n",
       "</table>\n",
       "</div>"
      ],
      "text/plain": [
       "     FIRST        TITLE COUNTRY_LIVE_IN          FOOD_LOVED  \\\n",
       "0  richard  singularity    united state                meat   \n",
       "1   dahyun          kim     south korea  milk,chocklet milk   \n",
       "2   nayeon                  south korea        salmon sushi   \n",
       "3     sana   minatozaki           japan          spicy food   \n",
       "4    Jisoo          Kim     south korea                meat   \n",
       "\n",
       "               EMAIL HEIGHT AGE  \n",
       "0  richard@email.com    5.7  18  \n",
       "1   dahyun@email.com    5.3  24  \n",
       "2   nayeon@email.com    5.6  18  \n",
       "3     sana@email.com    5.4  24  \n",
       "4    jisoo@email.com    5.4  28  "
      ]
     },
     "execution_count": 15,
     "metadata": {},
     "output_type": "execute_result"
    }
   ],
   "source": [
    "df"
   ]
  },
  {
   "cell_type": "markdown",
   "id": "59c0a3dc-1e25-45e8-9fdc-8538a043487c",
   "metadata": {
    "canvas": {
     "comments": [],
     "componentType": "CodeCell",
     "copiedOriginId": null,
     "diskcache": false,
     "headerColor": "none",
     "id": "b86ea623-ce87-4360-9689-33f5f77781c2",
     "isComponent": false,
     "name": "",
     "parents": []
    }
   },
   "source": [
    "# find out information form a big database "
   ]
  },
  {
   "cell_type": "code",
   "execution_count": 16,
   "id": "a6fc32ea-161a-45f0-8729-d244fb0b4440",
   "metadata": {
    "canvas": {
     "comments": [],
     "componentType": "CodeCell",
     "copiedOriginId": null,
     "diskcache": false,
     "headerColor": "none",
     "id": "9db945db-6458-4fd7-bcd7-bedd379e5192",
     "isComponent": false,
     "name": "",
     "parents": []
    }
   },
   "outputs": [
    {
     "data": {
      "text/plain": [
       "4    28\n",
       "Name: AGE, dtype: object"
      ]
     },
     "execution_count": 16,
     "metadata": {},
     "output_type": "execute_result"
    }
   ],
   "source": [
    "fil = (df['EMAIL'] == 'jisoo@email.com')\n",
    "df[fil]['AGE']"
   ]
  },
  {
   "cell_type": "markdown",
   "id": "1f91cbf5-db8f-4d57-9b53-1f95fe9ed148",
   "metadata": {
    "canvas": {
     "comments": [],
     "componentType": "CodeCell",
     "copiedOriginId": null,
     "diskcache": false,
     "headerColor": "none",
     "id": "33d6cd9e-7489-4aa8-922e-232df00c6434",
     "isComponent": false,
     "name": "",
     "parents": []
    }
   },
   "source": [
    "# Change information form a big database"
   ]
  },
  {
   "cell_type": "code",
   "execution_count": 17,
   "id": "7eadbe53-da8e-4157-8600-0939eb4460a1",
   "metadata": {
    "canvas": {
     "comments": [],
     "componentType": "CodeCell",
     "copiedOriginId": null,
     "diskcache": false,
     "headerColor": "none",
     "id": "4f599862-9ac9-41d1-87a1-fd00f9a0646a",
     "isComponent": false,
     "name": "",
     "parents": []
    }
   },
   "outputs": [],
   "source": [
    "df.loc[fil,['FIRST']] = ['soyya jisoo']"
   ]
  },
  {
   "cell_type": "code",
   "execution_count": 18,
   "id": "d86a5360-7c3f-40e3-a7f1-e1865a14be7e",
   "metadata": {
    "canvas": {
     "comments": [],
     "componentType": "CodeCell",
     "copiedOriginId": null,
     "diskcache": false,
     "headerColor": "none",
     "id": "cfb54158-8def-4e76-b415-32cdbeb3e2c6",
     "isComponent": false,
     "name": "",
     "parents": []
    }
   },
   "outputs": [
    {
     "data": {
      "text/html": [
       "<div>\n",
       "<style scoped>\n",
       "    .dataframe tbody tr th:only-of-type {\n",
       "        vertical-align: middle;\n",
       "    }\n",
       "\n",
       "    .dataframe tbody tr th {\n",
       "        vertical-align: top;\n",
       "    }\n",
       "\n",
       "    .dataframe thead th {\n",
       "        text-align: right;\n",
       "    }\n",
       "</style>\n",
       "<table border=\"1\" class=\"dataframe\">\n",
       "  <thead>\n",
       "    <tr style=\"text-align: right;\">\n",
       "      <th></th>\n",
       "      <th>FIRST</th>\n",
       "      <th>TITLE</th>\n",
       "      <th>COUNTRY_LIVE_IN</th>\n",
       "      <th>FOOD_LOVED</th>\n",
       "      <th>EMAIL</th>\n",
       "      <th>HEIGHT</th>\n",
       "      <th>AGE</th>\n",
       "    </tr>\n",
       "  </thead>\n",
       "  <tbody>\n",
       "    <tr>\n",
       "      <th>0</th>\n",
       "      <td>richard</td>\n",
       "      <td>singularity</td>\n",
       "      <td>united state</td>\n",
       "      <td>meat</td>\n",
       "      <td>richard@email.com</td>\n",
       "      <td>5.7</td>\n",
       "      <td>18</td>\n",
       "    </tr>\n",
       "    <tr>\n",
       "      <th>1</th>\n",
       "      <td>dahyun</td>\n",
       "      <td>kim</td>\n",
       "      <td>south korea</td>\n",
       "      <td>milk,chocklet milk</td>\n",
       "      <td>dahyun@email.com</td>\n",
       "      <td>5.3</td>\n",
       "      <td>24</td>\n",
       "    </tr>\n",
       "    <tr>\n",
       "      <th>2</th>\n",
       "      <td>nayeon</td>\n",
       "      <td></td>\n",
       "      <td>south korea</td>\n",
       "      <td>salmon sushi</td>\n",
       "      <td>nayeon@email.com</td>\n",
       "      <td>5.6</td>\n",
       "      <td>18</td>\n",
       "    </tr>\n",
       "    <tr>\n",
       "      <th>3</th>\n",
       "      <td>sana</td>\n",
       "      <td>minatozaki</td>\n",
       "      <td>japan</td>\n",
       "      <td>spicy food</td>\n",
       "      <td>sana@email.com</td>\n",
       "      <td>5.4</td>\n",
       "      <td>24</td>\n",
       "    </tr>\n",
       "    <tr>\n",
       "      <th>4</th>\n",
       "      <td>soyya jisoo</td>\n",
       "      <td>Kim</td>\n",
       "      <td>south korea</td>\n",
       "      <td>meat</td>\n",
       "      <td>jisoo@email.com</td>\n",
       "      <td>5.4</td>\n",
       "      <td>28</td>\n",
       "    </tr>\n",
       "  </tbody>\n",
       "</table>\n",
       "</div>"
      ],
      "text/plain": [
       "         FIRST        TITLE COUNTRY_LIVE_IN          FOOD_LOVED  \\\n",
       "0      richard  singularity    united state                meat   \n",
       "1       dahyun          kim     south korea  milk,chocklet milk   \n",
       "2       nayeon                  south korea        salmon sushi   \n",
       "3         sana   minatozaki           japan          spicy food   \n",
       "4  soyya jisoo          Kim     south korea                meat   \n",
       "\n",
       "               EMAIL HEIGHT AGE  \n",
       "0  richard@email.com    5.7  18  \n",
       "1   dahyun@email.com    5.3  24  \n",
       "2   nayeon@email.com    5.6  18  \n",
       "3     sana@email.com    5.4  24  \n",
       "4    jisoo@email.com    5.4  28  "
      ]
     },
     "execution_count": 18,
     "metadata": {},
     "output_type": "execute_result"
    }
   ],
   "source": [
    "df"
   ]
  },
  {
   "cell_type": "code",
   "execution_count": 19,
   "id": "de949a83-7574-47b4-9a42-e42d077cd77a",
   "metadata": {
    "canvas": {
     "comments": [],
     "componentType": "CodeCell",
     "copiedOriginId": null,
     "diskcache": false,
     "headerColor": "none",
     "id": "2646c6b5-69c2-43da-91b0-258d9d1c06ac",
     "isComponent": false,
     "name": "",
     "parents": []
    }
   },
   "outputs": [
    {
     "data": {
      "text/html": [
       "<div>\n",
       "<style scoped>\n",
       "    .dataframe tbody tr th:only-of-type {\n",
       "        vertical-align: middle;\n",
       "    }\n",
       "\n",
       "    .dataframe tbody tr th {\n",
       "        vertical-align: top;\n",
       "    }\n",
       "\n",
       "    .dataframe thead th {\n",
       "        text-align: right;\n",
       "    }\n",
       "</style>\n",
       "<table border=\"1\" class=\"dataframe\">\n",
       "  <thead>\n",
       "    <tr style=\"text-align: right;\">\n",
       "      <th></th>\n",
       "      <th>FIRST</th>\n",
       "      <th>TITLE</th>\n",
       "      <th>COUNTRY_LIVE_IN</th>\n",
       "      <th>FOOD_LOVED</th>\n",
       "      <th>EMAIL</th>\n",
       "      <th>HEIGHT</th>\n",
       "      <th>AGE</th>\n",
       "    </tr>\n",
       "  </thead>\n",
       "  <tbody>\n",
       "    <tr>\n",
       "      <th>0</th>\n",
       "      <td>richard</td>\n",
       "      <td>singularity</td>\n",
       "      <td>united state</td>\n",
       "      <td>meat</td>\n",
       "      <td>richard@email.com</td>\n",
       "      <td>5.7</td>\n",
       "      <td>18</td>\n",
       "    </tr>\n",
       "    <tr>\n",
       "      <th>1</th>\n",
       "      <td>dahyun</td>\n",
       "      <td>kim</td>\n",
       "      <td>south korea</td>\n",
       "      <td>milk,chocklet milk</td>\n",
       "      <td>dahyun@email.com</td>\n",
       "      <td>5.3</td>\n",
       "      <td>24</td>\n",
       "    </tr>\n",
       "    <tr>\n",
       "      <th>2</th>\n",
       "      <td>nayeon</td>\n",
       "      <td></td>\n",
       "      <td>south korea</td>\n",
       "      <td>salmon sushi</td>\n",
       "      <td>nayeon@email.com</td>\n",
       "      <td>5.6</td>\n",
       "      <td>18</td>\n",
       "    </tr>\n",
       "    <tr>\n",
       "      <th>3</th>\n",
       "      <td>sana</td>\n",
       "      <td>minatozaki</td>\n",
       "      <td>japan</td>\n",
       "      <td>spicy food</td>\n",
       "      <td>sana@email.com</td>\n",
       "      <td>5.4</td>\n",
       "      <td>24</td>\n",
       "    </tr>\n",
       "    <tr>\n",
       "      <th>4</th>\n",
       "      <td>soyya jisoo</td>\n",
       "      <td>Kim</td>\n",
       "      <td>south korea</td>\n",
       "      <td>meat</td>\n",
       "      <td>jisoo@email.com</td>\n",
       "      <td>5.4</td>\n",
       "      <td>28</td>\n",
       "    </tr>\n",
       "  </tbody>\n",
       "</table>\n",
       "</div>"
      ],
      "text/plain": [
       "         FIRST        TITLE COUNTRY_LIVE_IN          FOOD_LOVED  \\\n",
       "0      richard  singularity    united state                meat   \n",
       "1       dahyun          kim     south korea  milk,chocklet milk   \n",
       "2       nayeon                  south korea        salmon sushi   \n",
       "3         sana   minatozaki           japan          spicy food   \n",
       "4  soyya jisoo          Kim     south korea                meat   \n",
       "\n",
       "               EMAIL HEIGHT AGE  \n",
       "0  richard@email.com    5.7  18  \n",
       "1   dahyun@email.com    5.3  24  \n",
       "2   nayeon@email.com    5.6  18  \n",
       "3     sana@email.com    5.4  24  \n",
       "4    jisoo@email.com    5.4  28  "
      ]
     },
     "execution_count": 19,
     "metadata": {},
     "output_type": "execute_result"
    }
   ],
   "source": [
    "df"
   ]
  },
  {
   "cell_type": "code",
   "execution_count": 20,
   "id": "7b304dd2-f50e-4724-9db8-0570789d30d1",
   "metadata": {
    "canvas": {
     "comments": [],
     "componentType": "CodeCell",
     "copiedOriginId": null,
     "diskcache": false,
     "headerColor": "none",
     "id": "17724b77-e891-4f64-a782-537b36a6d985",
     "isComponent": false,
     "name": "",
     "parents": []
    }
   },
   "outputs": [],
   "source": [
    "df.loc[2,['FIRST']] = ['nayeon']"
   ]
  },
  {
   "cell_type": "code",
   "execution_count": 21,
   "id": "ced7c9bc-489b-4693-9a8e-42254ae4b62c",
   "metadata": {
    "canvas": {
     "comments": [],
     "componentType": "CodeCell",
     "copiedOriginId": null,
     "diskcache": false,
     "headerColor": "none",
     "id": "3c62c518-e837-4c64-8c8e-0cc4cb757194",
     "isComponent": false,
     "name": "",
     "parents": []
    }
   },
   "outputs": [
    {
     "data": {
      "text/html": [
       "<div>\n",
       "<style scoped>\n",
       "    .dataframe tbody tr th:only-of-type {\n",
       "        vertical-align: middle;\n",
       "    }\n",
       "\n",
       "    .dataframe tbody tr th {\n",
       "        vertical-align: top;\n",
       "    }\n",
       "\n",
       "    .dataframe thead th {\n",
       "        text-align: right;\n",
       "    }\n",
       "</style>\n",
       "<table border=\"1\" class=\"dataframe\">\n",
       "  <thead>\n",
       "    <tr style=\"text-align: right;\">\n",
       "      <th></th>\n",
       "      <th>FIRST</th>\n",
       "      <th>TITLE</th>\n",
       "      <th>COUNTRY_LIVE_IN</th>\n",
       "      <th>FOOD_LOVED</th>\n",
       "      <th>EMAIL</th>\n",
       "      <th>HEIGHT</th>\n",
       "      <th>AGE</th>\n",
       "    </tr>\n",
       "  </thead>\n",
       "  <tbody>\n",
       "    <tr>\n",
       "      <th>0</th>\n",
       "      <td>richard</td>\n",
       "      <td>singularity</td>\n",
       "      <td>united state</td>\n",
       "      <td>meat</td>\n",
       "      <td>richard@email.com</td>\n",
       "      <td>5.7</td>\n",
       "      <td>18</td>\n",
       "    </tr>\n",
       "    <tr>\n",
       "      <th>1</th>\n",
       "      <td>dahyun</td>\n",
       "      <td>kim</td>\n",
       "      <td>south korea</td>\n",
       "      <td>milk,chocklet milk</td>\n",
       "      <td>dahyun@email.com</td>\n",
       "      <td>5.3</td>\n",
       "      <td>24</td>\n",
       "    </tr>\n",
       "    <tr>\n",
       "      <th>2</th>\n",
       "      <td>nayeon</td>\n",
       "      <td></td>\n",
       "      <td>south korea</td>\n",
       "      <td>salmon sushi</td>\n",
       "      <td>nayeon@email.com</td>\n",
       "      <td>5.6</td>\n",
       "      <td>18</td>\n",
       "    </tr>\n",
       "    <tr>\n",
       "      <th>3</th>\n",
       "      <td>sana</td>\n",
       "      <td>minatozaki</td>\n",
       "      <td>japan</td>\n",
       "      <td>spicy food</td>\n",
       "      <td>sana@email.com</td>\n",
       "      <td>5.4</td>\n",
       "      <td>24</td>\n",
       "    </tr>\n",
       "    <tr>\n",
       "      <th>4</th>\n",
       "      <td>soyya jisoo</td>\n",
       "      <td>Kim</td>\n",
       "      <td>south korea</td>\n",
       "      <td>meat</td>\n",
       "      <td>jisoo@email.com</td>\n",
       "      <td>5.4</td>\n",
       "      <td>28</td>\n",
       "    </tr>\n",
       "  </tbody>\n",
       "</table>\n",
       "</div>"
      ],
      "text/plain": [
       "         FIRST        TITLE COUNTRY_LIVE_IN          FOOD_LOVED  \\\n",
       "0      richard  singularity    united state                meat   \n",
       "1       dahyun          kim     south korea  milk,chocklet milk   \n",
       "2       nayeon                  south korea        salmon sushi   \n",
       "3         sana   minatozaki           japan          spicy food   \n",
       "4  soyya jisoo          Kim     south korea                meat   \n",
       "\n",
       "               EMAIL HEIGHT AGE  \n",
       "0  richard@email.com    5.7  18  \n",
       "1   dahyun@email.com    5.3  24  \n",
       "2   nayeon@email.com    5.6  18  \n",
       "3     sana@email.com    5.4  24  \n",
       "4    jisoo@email.com    5.4  28  "
      ]
     },
     "execution_count": 21,
     "metadata": {},
     "output_type": "execute_result"
    }
   ],
   "source": [
    "df"
   ]
  },
  {
   "cell_type": "markdown",
   "id": "48edd880-7926-46c2-a52f-a8572cd5a641",
   "metadata": {
    "canvas": {
     "comments": [],
     "componentType": "CodeCell",
     "copiedOriginId": null,
     "diskcache": false,
     "headerColor": "none",
     "id": "18e2397d-9326-4294-91d7-148082bd2032",
     "isComponent": false,
     "name": "",
     "parents": []
    }
   },
   "source": [
    "# Convert lower case to upper case in ROW"
   ]
  },
  {
   "cell_type": "code",
   "execution_count": 22,
   "id": "6a42b093-3e9b-40d1-8e33-3692c8544a41",
   "metadata": {
    "canvas": {
     "comments": [],
     "componentType": "CodeCell",
     "copiedOriginId": null,
     "diskcache": false,
     "headerColor": "none",
     "id": "5bf4d0f7-d598-4acc-956f-9249b7fab144",
     "isComponent": false,
     "name": "",
     "parents": []
    }
   },
   "outputs": [],
   "source": [
    "df['EMAIL'] = df[\"EMAIL\"].str.upper()"
   ]
  },
  {
   "cell_type": "code",
   "execution_count": 23,
   "id": "cfdfbdb7-c0bb-4572-b767-885ca507a99b",
   "metadata": {
    "canvas": {
     "comments": [],
     "componentType": "CodeCell",
     "copiedOriginId": null,
     "diskcache": false,
     "headerColor": "none",
     "id": "8aa03c16-ad41-4bbc-b906-e898d9c23065",
     "isComponent": false,
     "name": "",
     "parents": []
    }
   },
   "outputs": [
    {
     "data": {
      "text/html": [
       "<div>\n",
       "<style scoped>\n",
       "    .dataframe tbody tr th:only-of-type {\n",
       "        vertical-align: middle;\n",
       "    }\n",
       "\n",
       "    .dataframe tbody tr th {\n",
       "        vertical-align: top;\n",
       "    }\n",
       "\n",
       "    .dataframe thead th {\n",
       "        text-align: right;\n",
       "    }\n",
       "</style>\n",
       "<table border=\"1\" class=\"dataframe\">\n",
       "  <thead>\n",
       "    <tr style=\"text-align: right;\">\n",
       "      <th></th>\n",
       "      <th>FIRST</th>\n",
       "      <th>TITLE</th>\n",
       "      <th>COUNTRY_LIVE_IN</th>\n",
       "      <th>FOOD_LOVED</th>\n",
       "      <th>EMAIL</th>\n",
       "      <th>HEIGHT</th>\n",
       "      <th>AGE</th>\n",
       "    </tr>\n",
       "  </thead>\n",
       "  <tbody>\n",
       "    <tr>\n",
       "      <th>0</th>\n",
       "      <td>richard</td>\n",
       "      <td>singularity</td>\n",
       "      <td>united state</td>\n",
       "      <td>meat</td>\n",
       "      <td>RICHARD@EMAIL.COM</td>\n",
       "      <td>5.7</td>\n",
       "      <td>18</td>\n",
       "    </tr>\n",
       "    <tr>\n",
       "      <th>1</th>\n",
       "      <td>dahyun</td>\n",
       "      <td>kim</td>\n",
       "      <td>south korea</td>\n",
       "      <td>milk,chocklet milk</td>\n",
       "      <td>DAHYUN@EMAIL.COM</td>\n",
       "      <td>5.3</td>\n",
       "      <td>24</td>\n",
       "    </tr>\n",
       "    <tr>\n",
       "      <th>2</th>\n",
       "      <td>nayeon</td>\n",
       "      <td></td>\n",
       "      <td>south korea</td>\n",
       "      <td>salmon sushi</td>\n",
       "      <td>NAYEON@EMAIL.COM</td>\n",
       "      <td>5.6</td>\n",
       "      <td>18</td>\n",
       "    </tr>\n",
       "    <tr>\n",
       "      <th>3</th>\n",
       "      <td>sana</td>\n",
       "      <td>minatozaki</td>\n",
       "      <td>japan</td>\n",
       "      <td>spicy food</td>\n",
       "      <td>SANA@EMAIL.COM</td>\n",
       "      <td>5.4</td>\n",
       "      <td>24</td>\n",
       "    </tr>\n",
       "    <tr>\n",
       "      <th>4</th>\n",
       "      <td>soyya jisoo</td>\n",
       "      <td>Kim</td>\n",
       "      <td>south korea</td>\n",
       "      <td>meat</td>\n",
       "      <td>JISOO@EMAIL.COM</td>\n",
       "      <td>5.4</td>\n",
       "      <td>28</td>\n",
       "    </tr>\n",
       "  </tbody>\n",
       "</table>\n",
       "</div>"
      ],
      "text/plain": [
       "         FIRST        TITLE COUNTRY_LIVE_IN          FOOD_LOVED  \\\n",
       "0      richard  singularity    united state                meat   \n",
       "1       dahyun          kim     south korea  milk,chocklet milk   \n",
       "2       nayeon                  south korea        salmon sushi   \n",
       "3         sana   minatozaki           japan          spicy food   \n",
       "4  soyya jisoo          Kim     south korea                meat   \n",
       "\n",
       "               EMAIL HEIGHT AGE  \n",
       "0  RICHARD@EMAIL.COM    5.7  18  \n",
       "1   DAHYUN@EMAIL.COM    5.3  24  \n",
       "2   NAYEON@EMAIL.COM    5.6  18  \n",
       "3     SANA@EMAIL.COM    5.4  24  \n",
       "4    JISOO@EMAIL.COM    5.4  28  "
      ]
     },
     "execution_count": 23,
     "metadata": {},
     "output_type": "execute_result"
    }
   ],
   "source": [
    "df"
   ]
  },
  {
   "cell_type": "code",
   "execution_count": 24,
   "id": "6f7f6389-b6f9-430b-bbf4-0eeca3255448",
   "metadata": {
    "canvas": {
     "comments": [],
     "componentType": "CodeCell",
     "copiedOriginId": null,
     "diskcache": false,
     "headerColor": "none",
     "id": "28780337-645d-4fb5-8de5-998c4830fae0",
     "isComponent": false,
     "name": "",
     "parents": []
    }
   },
   "outputs": [
    {
     "data": {
      "text/plain": [
       "0    17\n",
       "1    16\n",
       "2    16\n",
       "3    14\n",
       "4    15\n",
       "Name: EMAIL, dtype: int64"
      ]
     },
     "execution_count": 24,
     "metadata": {},
     "output_type": "execute_result"
    }
   ],
   "source": [
    "df['EMAIL'].apply(len)"
   ]
  },
  {
   "cell_type": "markdown",
   "id": "b11bfbf2-ba9d-4aa0-b1f3-e995444a5931",
   "metadata": {
    "canvas": {
     "comments": [],
     "componentType": "CodeCell",
     "copiedOriginId": null,
     "diskcache": false,
     "headerColor": "none",
     "id": "6d2196f3-33ec-42a3-82e2-1419f36fb782",
     "isComponent": false,
     "name": "",
     "parents": []
    }
   },
   "source": [
    "# Create a function\n",
    "\n",
    "we can able to use any function in python "
   ]
  },
  {
   "cell_type": "code",
   "execution_count": 28,
   "id": "e2fdfd63-48b5-4ace-902e-7b4ae797f95b",
   "metadata": {
    "canvas": {
     "comments": [],
     "componentType": "CodeCell",
     "copiedOriginId": null,
     "diskcache": false,
     "headerColor": "none",
     "id": "724aafac-0b0d-4452-aef4-f7273e80d09e",
     "isComponent": false,
     "name": "",
     "parents": []
    }
   },
   "outputs": [],
   "source": [
    "def update_email(EMAIL):\n",
    "    return EMAIL.upper()"
   ]
  },
  {
   "cell_type": "code",
   "execution_count": 29,
   "id": "edaec435-be6e-472d-849c-80417fd58609",
   "metadata": {
    "canvas": {
     "comments": [],
     "componentType": "CodeCell",
     "copiedOriginId": null,
     "diskcache": false,
     "headerColor": "none",
     "id": "076b37fd-85af-448b-93d9-461e4470982b",
     "isComponent": false,
     "name": "",
     "parents": []
    }
   },
   "outputs": [],
   "source": [
    "df['EMAIL']=df['EMAIL'].apply(update_email)"
   ]
  },
  {
   "cell_type": "code",
   "execution_count": 30,
   "id": "f9d9ff7a-2e32-49b3-926c-51e6cc3df896",
   "metadata": {
    "canvas": {
     "comments": [],
     "componentType": "CodeCell",
     "copiedOriginId": null,
     "diskcache": false,
     "headerColor": "none",
     "id": "a4d7ebee-f8e2-457a-b2ca-e3d1a2d35504",
     "isComponent": false,
     "name": "",
     "parents": []
    }
   },
   "outputs": [
    {
     "data": {
      "text/html": [
       "<div>\n",
       "<style scoped>\n",
       "    .dataframe tbody tr th:only-of-type {\n",
       "        vertical-align: middle;\n",
       "    }\n",
       "\n",
       "    .dataframe tbody tr th {\n",
       "        vertical-align: top;\n",
       "    }\n",
       "\n",
       "    .dataframe thead th {\n",
       "        text-align: right;\n",
       "    }\n",
       "</style>\n",
       "<table border=\"1\" class=\"dataframe\">\n",
       "  <thead>\n",
       "    <tr style=\"text-align: right;\">\n",
       "      <th></th>\n",
       "      <th>FIRST</th>\n",
       "      <th>TITLE</th>\n",
       "      <th>COUNTRY_LIVE_IN</th>\n",
       "      <th>FOOD_LOVED</th>\n",
       "      <th>EMAIL</th>\n",
       "      <th>HEIGHT</th>\n",
       "      <th>AGE</th>\n",
       "    </tr>\n",
       "  </thead>\n",
       "  <tbody>\n",
       "    <tr>\n",
       "      <th>0</th>\n",
       "      <td>richard</td>\n",
       "      <td>singularity</td>\n",
       "      <td>united state</td>\n",
       "      <td>meat</td>\n",
       "      <td>RICHARD@EMAIL.COM</td>\n",
       "      <td>5.7</td>\n",
       "      <td>18</td>\n",
       "    </tr>\n",
       "    <tr>\n",
       "      <th>1</th>\n",
       "      <td>dahyun</td>\n",
       "      <td>kim</td>\n",
       "      <td>south korea</td>\n",
       "      <td>milk,chocklet milk</td>\n",
       "      <td>DAHYUN@EMAIL.COM</td>\n",
       "      <td>5.3</td>\n",
       "      <td>24</td>\n",
       "    </tr>\n",
       "    <tr>\n",
       "      <th>2</th>\n",
       "      <td>nayeon</td>\n",
       "      <td></td>\n",
       "      <td>south korea</td>\n",
       "      <td>salmon sushi</td>\n",
       "      <td>NAYEON@EMAIL.COM</td>\n",
       "      <td>5.6</td>\n",
       "      <td>18</td>\n",
       "    </tr>\n",
       "    <tr>\n",
       "      <th>3</th>\n",
       "      <td>sana</td>\n",
       "      <td>minatozaki</td>\n",
       "      <td>japan</td>\n",
       "      <td>spicy food</td>\n",
       "      <td>SANA@EMAIL.COM</td>\n",
       "      <td>5.4</td>\n",
       "      <td>24</td>\n",
       "    </tr>\n",
       "    <tr>\n",
       "      <th>4</th>\n",
       "      <td>soyya jisoo</td>\n",
       "      <td>Kim</td>\n",
       "      <td>south korea</td>\n",
       "      <td>meat</td>\n",
       "      <td>JISOO@EMAIL.COM</td>\n",
       "      <td>5.4</td>\n",
       "      <td>28</td>\n",
       "    </tr>\n",
       "  </tbody>\n",
       "</table>\n",
       "</div>"
      ],
      "text/plain": [
       "         FIRST        TITLE COUNTRY_LIVE_IN          FOOD_LOVED  \\\n",
       "0      richard  singularity    united state                meat   \n",
       "1       dahyun          kim     south korea  milk,chocklet milk   \n",
       "2       nayeon                  south korea        salmon sushi   \n",
       "3         sana   minatozaki           japan          spicy food   \n",
       "4  soyya jisoo          Kim     south korea                meat   \n",
       "\n",
       "               EMAIL HEIGHT AGE  \n",
       "0  RICHARD@EMAIL.COM    5.7  18  \n",
       "1   DAHYUN@EMAIL.COM    5.3  24  \n",
       "2   NAYEON@EMAIL.COM    5.6  18  \n",
       "3     SANA@EMAIL.COM    5.4  24  \n",
       "4    JISOO@EMAIL.COM    5.4  28  "
      ]
     },
     "execution_count": 30,
     "metadata": {},
     "output_type": "execute_result"
    }
   ],
   "source": [
    "df"
   ]
  },
  {
   "cell_type": "code",
   "execution_count": 32,
   "id": "75b9674c-e47c-4edf-aec5-fa7e27f17eb2",
   "metadata": {
    "canvas": {
     "comments": [],
     "componentType": "CodeCell",
     "copiedOriginId": null,
     "diskcache": false,
     "headerColor": "none",
     "id": "69292e9c-3cbb-4ab8-bdda-332c2ebda048",
     "isComponent": false,
     "name": "",
     "parents": []
    }
   },
   "outputs": [
    {
     "data": {
      "text/plain": [
       "0    12\n",
       "1    11\n",
       "2    11\n",
       "3     5\n",
       "4    11\n",
       "Name: COUNTRY_LIVE_IN, dtype: int64"
      ]
     },
     "execution_count": 32,
     "metadata": {},
     "output_type": "execute_result"
    }
   ],
   "source": [
    "df['COUNTRY_LIVE_IN'].apply(len)"
   ]
  },
  {
   "cell_type": "code",
   "execution_count": 35,
   "id": "3f1a744e-253e-4a89-b992-6d4570626b0c",
   "metadata": {
    "canvas": {
     "comments": [],
     "componentType": "CodeCell",
     "copiedOriginId": null,
     "diskcache": false,
     "headerColor": "none",
     "id": "680ae609-6cc4-4188-b6ee-53f0a7b6f9e6",
     "isComponent": false,
     "name": "",
     "parents": []
    }
   },
   "outputs": [
    {
     "data": {
      "text/plain": [
       "0     7\n",
       "1     6\n",
       "2     6\n",
       "3     4\n",
       "4    11\n",
       "Name: FIRST, dtype: int64"
      ]
     },
     "execution_count": 35,
     "metadata": {},
     "output_type": "execute_result"
    }
   ],
   "source": [
    "df['FIRST'].apply(len)"
   ]
  },
  {
   "cell_type": "markdown",
   "id": "d4f3cebb-6480-41d7-94c2-52b6364674d8",
   "metadata": {
    "canvas": {
     "comments": [],
     "componentType": "CodeCell",
     "copiedOriginId": null,
     "diskcache": false,
     "headerColor": "none",
     "id": "800bf74e-2395-4005-ac40-904808b6e155",
     "isComponent": false,
     "name": "",
     "parents": []
    }
   },
   "source": [
    "# APPLEYMAP()\n",
    "this fuction give you all the numerical lenth of correspoddin elements"
   ]
  },
  {
   "cell_type": "code",
   "execution_count": 36,
   "id": "2860ca03-794c-4f8d-b506-e03a0fa2a1e0",
   "metadata": {
    "canvas": {
     "comments": [],
     "componentType": "CodeCell",
     "copiedOriginId": null,
     "diskcache": false,
     "headerColor": "none",
     "id": "6ea2cfee-49eb-44ab-9467-b102edaa5053",
     "isComponent": false,
     "name": "",
     "parents": []
    }
   },
   "outputs": [
    {
     "data": {
      "text/html": [
       "<div>\n",
       "<style scoped>\n",
       "    .dataframe tbody tr th:only-of-type {\n",
       "        vertical-align: middle;\n",
       "    }\n",
       "\n",
       "    .dataframe tbody tr th {\n",
       "        vertical-align: top;\n",
       "    }\n",
       "\n",
       "    .dataframe thead th {\n",
       "        text-align: right;\n",
       "    }\n",
       "</style>\n",
       "<table border=\"1\" class=\"dataframe\">\n",
       "  <thead>\n",
       "    <tr style=\"text-align: right;\">\n",
       "      <th></th>\n",
       "      <th>FIRST</th>\n",
       "      <th>TITLE</th>\n",
       "      <th>COUNTRY_LIVE_IN</th>\n",
       "      <th>FOOD_LOVED</th>\n",
       "      <th>EMAIL</th>\n",
       "      <th>HEIGHT</th>\n",
       "      <th>AGE</th>\n",
       "    </tr>\n",
       "  </thead>\n",
       "  <tbody>\n",
       "    <tr>\n",
       "      <th>0</th>\n",
       "      <td>7</td>\n",
       "      <td>11</td>\n",
       "      <td>12</td>\n",
       "      <td>4</td>\n",
       "      <td>17</td>\n",
       "      <td>3</td>\n",
       "      <td>2</td>\n",
       "    </tr>\n",
       "    <tr>\n",
       "      <th>1</th>\n",
       "      <td>6</td>\n",
       "      <td>3</td>\n",
       "      <td>11</td>\n",
       "      <td>18</td>\n",
       "      <td>16</td>\n",
       "      <td>3</td>\n",
       "      <td>2</td>\n",
       "    </tr>\n",
       "    <tr>\n",
       "      <th>2</th>\n",
       "      <td>6</td>\n",
       "      <td>0</td>\n",
       "      <td>11</td>\n",
       "      <td>12</td>\n",
       "      <td>16</td>\n",
       "      <td>3</td>\n",
       "      <td>2</td>\n",
       "    </tr>\n",
       "    <tr>\n",
       "      <th>3</th>\n",
       "      <td>4</td>\n",
       "      <td>10</td>\n",
       "      <td>5</td>\n",
       "      <td>10</td>\n",
       "      <td>14</td>\n",
       "      <td>3</td>\n",
       "      <td>2</td>\n",
       "    </tr>\n",
       "    <tr>\n",
       "      <th>4</th>\n",
       "      <td>11</td>\n",
       "      <td>3</td>\n",
       "      <td>11</td>\n",
       "      <td>4</td>\n",
       "      <td>15</td>\n",
       "      <td>3</td>\n",
       "      <td>2</td>\n",
       "    </tr>\n",
       "  </tbody>\n",
       "</table>\n",
       "</div>"
      ],
      "text/plain": [
       "   FIRST  TITLE  COUNTRY_LIVE_IN  FOOD_LOVED  EMAIL  HEIGHT  AGE\n",
       "0      7     11               12           4     17       3    2\n",
       "1      6      3               11          18     16       3    2\n",
       "2      6      0               11          12     16       3    2\n",
       "3      4     10                5          10     14       3    2\n",
       "4     11      3               11           4     15       3    2"
      ]
     },
     "execution_count": 36,
     "metadata": {},
     "output_type": "execute_result"
    }
   ],
   "source": [
    "df.applymap(len)"
   ]
  },
  {
   "cell_type": "code",
   "execution_count": 37,
   "id": "1401acd5-1c5a-47e7-858b-08c1095c22ea",
   "metadata": {
    "canvas": {
     "comments": [],
     "componentType": "CodeCell",
     "copiedOriginId": null,
     "diskcache": false,
     "headerColor": "none",
     "id": "902be622-be49-4926-800c-19a7a22e9a8a",
     "isComponent": false,
     "name": "",
     "parents": []
    }
   },
   "outputs": [
    {
     "data": {
      "text/html": [
       "<div>\n",
       "<style scoped>\n",
       "    .dataframe tbody tr th:only-of-type {\n",
       "        vertical-align: middle;\n",
       "    }\n",
       "\n",
       "    .dataframe tbody tr th {\n",
       "        vertical-align: top;\n",
       "    }\n",
       "\n",
       "    .dataframe thead th {\n",
       "        text-align: right;\n",
       "    }\n",
       "</style>\n",
       "<table border=\"1\" class=\"dataframe\">\n",
       "  <thead>\n",
       "    <tr style=\"text-align: right;\">\n",
       "      <th></th>\n",
       "      <th>FIRST</th>\n",
       "      <th>TITLE</th>\n",
       "      <th>COUNTRY_LIVE_IN</th>\n",
       "      <th>FOOD_LOVED</th>\n",
       "      <th>EMAIL</th>\n",
       "      <th>HEIGHT</th>\n",
       "      <th>AGE</th>\n",
       "    </tr>\n",
       "  </thead>\n",
       "  <tbody>\n",
       "    <tr>\n",
       "      <th>0</th>\n",
       "      <td>richard</td>\n",
       "      <td>singularity</td>\n",
       "      <td>united state</td>\n",
       "      <td>meat</td>\n",
       "      <td>RICHARD@EMAIL.COM</td>\n",
       "      <td>5.7</td>\n",
       "      <td>18</td>\n",
       "    </tr>\n",
       "    <tr>\n",
       "      <th>1</th>\n",
       "      <td>dahyun</td>\n",
       "      <td>kim</td>\n",
       "      <td>south korea</td>\n",
       "      <td>milk,chocklet milk</td>\n",
       "      <td>DAHYUN@EMAIL.COM</td>\n",
       "      <td>5.3</td>\n",
       "      <td>24</td>\n",
       "    </tr>\n",
       "    <tr>\n",
       "      <th>2</th>\n",
       "      <td>nayeon</td>\n",
       "      <td></td>\n",
       "      <td>south korea</td>\n",
       "      <td>salmon sushi</td>\n",
       "      <td>NAYEON@EMAIL.COM</td>\n",
       "      <td>5.6</td>\n",
       "      <td>18</td>\n",
       "    </tr>\n",
       "    <tr>\n",
       "      <th>3</th>\n",
       "      <td>sana</td>\n",
       "      <td>minatozaki</td>\n",
       "      <td>japan</td>\n",
       "      <td>spicy food</td>\n",
       "      <td>SANA@EMAIL.COM</td>\n",
       "      <td>5.4</td>\n",
       "      <td>24</td>\n",
       "    </tr>\n",
       "    <tr>\n",
       "      <th>4</th>\n",
       "      <td>soyya jisoo</td>\n",
       "      <td>Kim</td>\n",
       "      <td>south korea</td>\n",
       "      <td>meat</td>\n",
       "      <td>JISOO@EMAIL.COM</td>\n",
       "      <td>5.4</td>\n",
       "      <td>28</td>\n",
       "    </tr>\n",
       "  </tbody>\n",
       "</table>\n",
       "</div>"
      ],
      "text/plain": [
       "         FIRST        TITLE COUNTRY_LIVE_IN          FOOD_LOVED  \\\n",
       "0      richard  singularity    united state                meat   \n",
       "1       dahyun          kim     south korea  milk,chocklet milk   \n",
       "2       nayeon                  south korea        salmon sushi   \n",
       "3         sana   minatozaki           japan          spicy food   \n",
       "4  soyya jisoo          Kim     south korea                meat   \n",
       "\n",
       "               EMAIL HEIGHT AGE  \n",
       "0  RICHARD@EMAIL.COM    5.7  18  \n",
       "1   DAHYUN@EMAIL.COM    5.3  24  \n",
       "2   NAYEON@EMAIL.COM    5.6  18  \n",
       "3     SANA@EMAIL.COM    5.4  24  \n",
       "4    JISOO@EMAIL.COM    5.4  28  "
      ]
     },
     "execution_count": 37,
     "metadata": {},
     "output_type": "execute_result"
    }
   ],
   "source": [
    "df"
   ]
  },
  {
   "cell_type": "markdown",
   "id": "b02f6ce7-f28f-458f-b9e1-5dedf8948c35",
   "metadata": {
    "canvas": {
     "comments": [],
     "componentType": "CodeCell",
     "copiedOriginId": null,
     "diskcache": false,
     "headerColor": "none",
     "id": "8cee8b40-fbff-4e85-8e3b-a13b08fb8fd5",
     "isComponent": false,
     "name": "",
     "parents": []
    }
   },
   "source": [
    "# df.applymap(str.upper)\n",
    "BY THIS MATHOD WE CAN MODIFY OUR CORRESPODDIN ELEMENT IN DATAFRAME"
   ]
  },
  {
   "cell_type": "code",
   "execution_count": 39,
   "id": "a53001dc-9f28-4af4-bd6d-76b2a6ffca2d",
   "metadata": {
    "canvas": {
     "comments": [],
     "componentType": "CodeCell",
     "copiedOriginId": null,
     "diskcache": false,
     "headerColor": "none",
     "id": "e6caba3a-a6ac-4436-a6cf-9c5749258228",
     "isComponent": false,
     "name": "",
     "parents": []
    }
   },
   "outputs": [
    {
     "data": {
      "text/html": [
       "<div>\n",
       "<style scoped>\n",
       "    .dataframe tbody tr th:only-of-type {\n",
       "        vertical-align: middle;\n",
       "    }\n",
       "\n",
       "    .dataframe tbody tr th {\n",
       "        vertical-align: top;\n",
       "    }\n",
       "\n",
       "    .dataframe thead th {\n",
       "        text-align: right;\n",
       "    }\n",
       "</style>\n",
       "<table border=\"1\" class=\"dataframe\">\n",
       "  <thead>\n",
       "    <tr style=\"text-align: right;\">\n",
       "      <th></th>\n",
       "      <th>FIRST</th>\n",
       "      <th>TITLE</th>\n",
       "      <th>COUNTRY_LIVE_IN</th>\n",
       "      <th>FOOD_LOVED</th>\n",
       "      <th>EMAIL</th>\n",
       "      <th>HEIGHT</th>\n",
       "      <th>AGE</th>\n",
       "    </tr>\n",
       "  </thead>\n",
       "  <tbody>\n",
       "    <tr>\n",
       "      <th>0</th>\n",
       "      <td>RICHARD</td>\n",
       "      <td>SINGULARITY</td>\n",
       "      <td>UNITED STATE</td>\n",
       "      <td>MEAT</td>\n",
       "      <td>RICHARD@EMAIL.COM</td>\n",
       "      <td>5.7</td>\n",
       "      <td>18</td>\n",
       "    </tr>\n",
       "    <tr>\n",
       "      <th>1</th>\n",
       "      <td>DAHYUN</td>\n",
       "      <td>KIM</td>\n",
       "      <td>SOUTH KOREA</td>\n",
       "      <td>MILK,CHOCKLET MILK</td>\n",
       "      <td>DAHYUN@EMAIL.COM</td>\n",
       "      <td>5.3</td>\n",
       "      <td>24</td>\n",
       "    </tr>\n",
       "    <tr>\n",
       "      <th>2</th>\n",
       "      <td>NAYEON</td>\n",
       "      <td></td>\n",
       "      <td>SOUTH KOREA</td>\n",
       "      <td>SALMON SUSHI</td>\n",
       "      <td>NAYEON@EMAIL.COM</td>\n",
       "      <td>5.6</td>\n",
       "      <td>18</td>\n",
       "    </tr>\n",
       "    <tr>\n",
       "      <th>3</th>\n",
       "      <td>SANA</td>\n",
       "      <td>MINATOZAKI</td>\n",
       "      <td>JAPAN</td>\n",
       "      <td>SPICY FOOD</td>\n",
       "      <td>SANA@EMAIL.COM</td>\n",
       "      <td>5.4</td>\n",
       "      <td>24</td>\n",
       "    </tr>\n",
       "    <tr>\n",
       "      <th>4</th>\n",
       "      <td>SOYYA JISOO</td>\n",
       "      <td>KIM</td>\n",
       "      <td>SOUTH KOREA</td>\n",
       "      <td>MEAT</td>\n",
       "      <td>JISOO@EMAIL.COM</td>\n",
       "      <td>5.4</td>\n",
       "      <td>28</td>\n",
       "    </tr>\n",
       "  </tbody>\n",
       "</table>\n",
       "</div>"
      ],
      "text/plain": [
       "         FIRST        TITLE COUNTRY_LIVE_IN          FOOD_LOVED  \\\n",
       "0      RICHARD  SINGULARITY    UNITED STATE                MEAT   \n",
       "1       DAHYUN          KIM     SOUTH KOREA  MILK,CHOCKLET MILK   \n",
       "2       NAYEON                  SOUTH KOREA        SALMON SUSHI   \n",
       "3         SANA   MINATOZAKI           JAPAN          SPICY FOOD   \n",
       "4  SOYYA JISOO          KIM     SOUTH KOREA                MEAT   \n",
       "\n",
       "               EMAIL HEIGHT AGE  \n",
       "0  RICHARD@EMAIL.COM    5.7  18  \n",
       "1   DAHYUN@EMAIL.COM    5.3  24  \n",
       "2   NAYEON@EMAIL.COM    5.6  18  \n",
       "3     SANA@EMAIL.COM    5.4  24  \n",
       "4    JISOO@EMAIL.COM    5.4  28  "
      ]
     },
     "execution_count": 39,
     "metadata": {},
     "output_type": "execute_result"
    }
   ],
   "source": [
    "df.applymap(str.upper)"
   ]
  },
  {
   "cell_type": "code",
   "execution_count": null,
   "id": "7473db24-b0b8-4c21-9527-b71a118352e3",
   "metadata": {
    "canvas": {
     "comments": [],
     "componentType": "CodeCell",
     "copiedOriginId": null,
     "diskcache": false,
     "headerColor": "none",
     "id": "5e95dd34-b7b8-4198-9a11-241e8d1fe7d2",
     "isComponent": false,
     "name": "",
     "parents": []
    }
   },
   "outputs": [],
   "source": []
  }
 ],
 "metadata": {
  "canvas": {
   "colorPalette": [
    "inherit",
    "inherit",
    "inherit",
    "inherit",
    "inherit",
    "inherit",
    "inherit",
    "inherit",
    "inherit",
    "inherit"
   ],
   "parameters": [],
   "version": "1.0"
  },
  "kernelspec": {
   "display_name": "Python 3 (ipykernel)",
   "language": "python",
   "name": "python3"
  },
  "language_info": {
   "codemirror_mode": {
    "name": "ipython",
    "version": 3
   },
   "file_extension": ".py",
   "mimetype": "text/x-python",
   "name": "python",
   "nbconvert_exporter": "python",
   "pygments_lexer": "ipython3",
   "version": "3.10.8"
  }
 },
 "nbformat": 4,
 "nbformat_minor": 5
}
