{
 "cells": [
  {
   "cell_type": "code",
   "execution_count": 23,
   "id": "28667385-fdb2-473c-94e5-d106711258b9",
   "metadata": {},
   "outputs": [],
   "source": [
    "import pandas "
   ]
  },
  {
   "cell_type": "code",
   "execution_count": 24,
   "id": "a8533dfd-28df-48d9-90be-f4b1bf422ec6",
   "metadata": {},
   "outputs": [],
   "source": [
    "# df = pandas.read_csv('fiverr_chwasiullah.csv')\n",
    "# # Create a new column 'max_count'\n",
    "# df = df.assign(max_count=df['username'].map(df['username'].value_counts().idxmax()))\n",
    "# # Create a new column 'max_count'\n",
    "# df['max_count'] = np.where(df['number']==df['number'].value_counts().max(),df['number'].value_counts().max(),0)\n",
    "\n",
    "\n",
    "\n",
    "\n"
   ]
  },
  {
   "cell_type": "code",
   "execution_count": 25,
   "id": "5e1a5090-bfb6-4c45-84e0-b85e71b2d3f8",
   "metadata": {},
   "outputs": [],
   "source": [
    " df = pandas.read_csv('fiverr_victorioustudio.csv')"
   ]
  },
  {
   "cell_type": "code",
   "execution_count": 26,
   "id": "2bf3762e-545e-4481-88de-05c328aa37f6",
   "metadata": {},
   "outputs": [],
   "source": [
    "u = df['username'].value_counts()"
   ]
  },
  {
   "cell_type": "code",
   "execution_count": 27,
   "id": "ac67a075-a796-4eb5-bc38-2c79b643ef56",
   "metadata": {},
   "outputs": [
    {
     "data": {
      "text/plain": [
       "williamchisholm    54\n",
       "will_eyre          16\n",
       "karlalopez715      15\n",
       "bm1974             14\n",
       "plusclub7          14\n",
       "                   ..\n",
       "jonathanthom860     1\n",
       "jmartinezaf         1\n",
       "tinusbeer           1\n",
       "neusid              1\n",
       "thatsawkward        1\n",
       "Name: username, Length: 260, dtype: int64"
      ]
     },
     "execution_count": 27,
     "metadata": {},
     "output_type": "execute_result"
    }
   ],
   "source": [
    "u "
   ]
  },
  {
   "cell_type": "code",
   "execution_count": 33,
   "id": "1bb526c8-d7b4-4b83-8f94-0e154d178745",
   "metadata": {},
   "outputs": [],
   "source": [
    "c = df['country-name']"
   ]
  },
  {
   "cell_type": "code",
   "execution_count": 34,
   "id": "9c6746ae-5921-4c9d-b31d-4aec29faae29",
   "metadata": {},
   "outputs": [
    {
     "data": {
      "text/plain": [
       "0            Romania\n",
       "1             Norway\n",
       "2      United States\n",
       "3      United States\n",
       "4              Spain\n",
       "           ...      \n",
       "593           Brazil\n",
       "594          Germany\n",
       "595           France\n",
       "596          Germany\n",
       "597           France\n",
       "Name: country-name, Length: 598, dtype: object"
      ]
     },
     "execution_count": 34,
     "metadata": {},
     "output_type": "execute_result"
    }
   ],
   "source": [
    "c"
   ]
  },
  {
   "cell_type": "code",
   "execution_count": 28,
   "id": "8530711c-6514-435e-bf77-f0754ea93f10",
   "metadata": {},
   "outputs": [],
   "source": [
    "# username_counts.to_csv('rank.csv')"
   ]
  },
  {
   "cell_type": "code",
   "execution_count": 29,
   "id": "09777f84-edb1-4757-9423-41066d8578cc",
   "metadata": {},
   "outputs": [],
   "source": [
    "# # Count the occurrences of each username\n",
    "# username_counts = df['username'].value_counts()\n",
    "\n",
    "# # Create a new column with the number of occurrences\n",
    "# df['username_count'] = df['username'].apply(lambda x: username_counts[x])"
   ]
  },
  {
   "cell_type": "code",
   "execution_count": 30,
   "id": "e79954a5-9aad-484a-ac3a-41537bf82257",
   "metadata": {},
   "outputs": [],
   "source": [
    "# df"
   ]
  },
  {
   "cell_type": "code",
   "execution_count": 31,
   "id": "5f659909-222f-48c9-a3fb-49287a5148a4",
   "metadata": {},
   "outputs": [],
   "source": [
    "# df.head(20)"
   ]
  },
  {
   "cell_type": "code",
   "execution_count": 32,
   "id": "eeea5c5b-a846-46c0-86b2-6c92e746e581",
   "metadata": {},
   "outputs": [],
   "source": [
    "# df.to_csv('new.csv')"
   ]
  },
  {
   "cell_type": "code",
   "execution_count": null,
   "id": "c213c10b-d004-4d11-9876-10167ce6ea8c",
   "metadata": {},
   "outputs": [],
   "source": []
  }
 ],
 "metadata": {
  "kernelspec": {
   "display_name": "Python 3 (ipykernel)",
   "language": "python",
   "name": "python3"
  },
  "language_info": {
   "codemirror_mode": {
    "name": "ipython",
    "version": 3
   },
   "file_extension": ".py",
   "mimetype": "text/x-python",
   "name": "python",
   "nbconvert_exporter": "python",
   "pygments_lexer": "ipython3",
   "version": "3.10.8"
  }
 },
 "nbformat": 4,
 "nbformat_minor": 5
}
